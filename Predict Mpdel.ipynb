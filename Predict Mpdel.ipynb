{
 "cells": [
  {
   "cell_type": "markdown",
   "id": "11069f3e",
   "metadata": {},
   "source": [
    "## Importing Libraries"
   ]
  },
  {
   "cell_type": "code",
   "execution_count": 10,
   "id": "80f25f3c",
   "metadata": {},
   "outputs": [],
   "source": [
    "import pandas as pd\n",
    "import matplotlib.pyplot as plt\n",
    "from sklearn.model_selection import train_test_split\n",
    "from sklearn.ensemble import RandomForestRegressor\n",
    "from sklearn.preprocessing import StandardScaler\n",
    "from sklearn.metrics import mean_absolute_error, mean_squared_error, r2_score\n",
    "import numpy as np"
   ]
  },
  {
   "cell_type": "markdown",
   "id": "e4cf83e3",
   "metadata": {},
   "source": [
    "## DataSet Loading and Structure Check"
   ]
  },
  {
   "cell_type": "code",
   "execution_count": 2,
   "id": "187bb82b",
   "metadata": {},
   "outputs": [
    {
     "name": "stdout",
     "output_type": "stream",
     "text": [
      "       Location            Date_Time  Temperature_C  Humidity_pct  \\\n",
      "0     San Diego  2024-01-14 21:12:46      10.683001     41.195754   \n",
      "1     San Diego  2024-05-17 15:22:10       8.734140     58.319107   \n",
      "2     San Diego  2024-05-11 09:30:59      11.632436     38.820175   \n",
      "3  Philadelphia  2024-02-26 17:32:39      -8.628976     54.074474   \n",
      "4   San Antonio  2024-04-29 13:23:51      39.808213     72.899908   \n",
      "\n",
      "   Precipitation_mm  Wind_Speed_kmh  \n",
      "0          4.020119        8.233540  \n",
      "1          9.111623       27.715161  \n",
      "2          4.607511       28.732951  \n",
      "3          3.183720       26.367303  \n",
      "4          9.598282       29.898622  \n",
      "<class 'pandas.core.frame.DataFrame'>\n",
      "RangeIndex: 1000000 entries, 0 to 999999\n",
      "Data columns (total 6 columns):\n",
      " #   Column            Non-Null Count    Dtype  \n",
      "---  ------            --------------    -----  \n",
      " 0   Location          1000000 non-null  object \n",
      " 1   Date_Time         1000000 non-null  object \n",
      " 2   Temperature_C     1000000 non-null  float64\n",
      " 3   Humidity_pct      1000000 non-null  float64\n",
      " 4   Precipitation_mm  1000000 non-null  float64\n",
      " 5   Wind_Speed_kmh    1000000 non-null  float64\n",
      "dtypes: float64(4), object(2)\n",
      "memory usage: 45.8+ MB\n",
      "None\n"
     ]
    }
   ],
   "source": [
    "Odey = pd.read_csv(\"weather_data.csv\")\n",
    "\n",
    "# Check structure\n",
    "print(Odey.head())\n",
    "print(Odey.info())"
   ]
  },
  {
   "cell_type": "markdown",
   "id": "0dd08812",
   "metadata": {},
   "source": [
    "## Data Manipulation and Filtering"
   ]
  },
  {
   "cell_type": "code",
   "execution_count": 3,
   "id": "715de498",
   "metadata": {},
   "outputs": [],
   "source": [
    "Odey['Date_Time'] = pd.to_datetime(Odey['Date_Time'])\n",
    "Odey['hour'] = Odey['Date_Time'].dt.hour\n",
    "Odey['month'] = Odey['Date_Time'].dt.month\n",
    "Odey['weekday'] = Odey['Date_Time'].dt.weekday "
   ]
  },
  {
   "cell_type": "code",
   "execution_count": 5,
   "id": "c595ab37",
   "metadata": {},
   "outputs": [
    {
     "name": "stdout",
     "output_type": "stream",
     "text": [
      "Suggested defaults: {'humidity': 60.02, 'precipitation': 5.11, 'wind_speed': 15.0, 'hour': 1, 'month': 1, 'weekday': 1}\n"
     ]
    }
   ],
   "source": [
    "defaults = {\n",
    "    \"humidity\": round(Odey[\"Humidity_pct\"].mean(), 2),\n",
    "    \"precipitation\": round(Odey[\"Precipitation_mm\"].mean(), 2),\n",
    "    \"wind_speed\": round(Odey[\"Wind_Speed_kmh\"].mean(), 2),\n",
    "    \"hour\": Odey[\"hour\"].mode()[0],\n",
    "    \"month\": Odey[\"month\"].mode()[0],\n",
    "    \"weekday\": Odey[\"weekday\"].mode()[0]\n",
    "}\n",
    "\n",
    "print(\"Suggested defaults:\", defaults)"
   ]
  },
  {
   "cell_type": "markdown",
   "id": "455fed0a",
   "metadata": {},
   "source": [
    "## Data Training, Modeling & Evaluation"
   ]
  },
  {
   "cell_type": "code",
   "execution_count": 7,
   "id": "5bbb602b",
   "metadata": {},
   "outputs": [],
   "source": [
    "# Features and target\n",
    "features = ['Humidity_pct', 'Precipitation_mm', 'Wind_Speed_kmh', 'hour', 'month', 'weekday']\n",
    "target = 'Temperature_C'\n",
    "\n",
    "X = Odey[features]\n",
    "y = Odey[target]"
   ]
  },
  {
   "cell_type": "code",
   "execution_count": 8,
   "id": "8d30d83b",
   "metadata": {},
   "outputs": [],
   "source": [
    "# Split and scale\n",
    "X_train, X_test, y_train, y_test = train_test_split(X, y, test_size=0.2, random_state=42)\n",
    "scaler = StandardScaler()\n",
    "X_train_scaled = scaler.fit_transform(X_train)\n",
    "X_test_scaled = scaler.transform(X_test)"
   ]
  },
  {
   "cell_type": "code",
   "execution_count": 9,
   "id": "13efa600",
   "metadata": {},
   "outputs": [
    {
     "data": {
      "text/plain": [
       "RandomForestRegressor(random_state=42)"
      ]
     },
     "execution_count": 9,
     "metadata": {},
     "output_type": "execute_result"
    }
   ],
   "source": [
    "# Train model\n",
    "model = RandomForestRegressor(n_estimators=100, random_state=42)\n",
    "model.fit(X_train_scaled, y_train)"
   ]
  },
  {
   "cell_type": "code",
   "execution_count": 11,
   "id": "eb536d59",
   "metadata": {},
   "outputs": [
    {
     "name": "stdout",
     "output_type": "stream",
     "text": [
      "MAE: 12.67 °C\n",
      "RMSE: 14.73 °C\n",
      "R² Score: -0.04\n"
     ]
    }
   ],
   "source": [
    "# Evaluation\n",
    "y_pred = model.predict(X_test_scaled)\n",
    "mae = mean_absolute_error(y_test, y_pred)\n",
    "rmse = np.sqrt(mean_squared_error(y_test, y_pred))\n",
    "r2 = r2_score(y_test, y_pred)\n",
    "\n",
    "print(f\"MAE: {mae:.2f} °C\")\n",
    "print(f\"RMSE: {rmse:.2f} °C\")\n",
    "print(f\"R² Score: {r2:.2f}\")"
   ]
  }
 ],
 "metadata": {
  "kernelspec": {
   "display_name": "base",
   "language": "python",
   "name": "python3"
  },
  "language_info": {
   "codemirror_mode": {
    "name": "ipython",
    "version": 3
   },
   "file_extension": ".py",
   "mimetype": "text/x-python",
   "name": "python",
   "nbconvert_exporter": "python",
   "pygments_lexer": "ipython3",
   "version": "3.9.12"
  }
 },
 "nbformat": 4,
 "nbformat_minor": 5
}
